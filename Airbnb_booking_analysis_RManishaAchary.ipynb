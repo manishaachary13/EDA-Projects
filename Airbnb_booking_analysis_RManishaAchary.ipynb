{
  "nbformat": 4,
  "nbformat_minor": 0,
  "metadata": {
    "colab": {
      "private_outputs": true,
      "provenance": [],
      "collapsed_sections": [
        "FJNUwmbgGyua",
        "w6K7xa23Elo4",
        "yQaldy8SH6Dl",
        "PH-0ReGfmX4f",
        "O_i_v8NEhb9l",
        "HhfV-JJviCcP",
        "Y3lxredqlCYt",
        "3RnN4peoiCZX",
        "x71ZqKXriCWQ",
        "7hBIi_osiCS2",
        "JlHwYmJAmNHm",
        "PoPl-ycgm1ru",
        "H0kj-8xxnORC",
        "nA9Y7ga8ng1Z",
        "PBTbrJXOngz2",
        "u3PMJOP6ngxN",
        "dauF4eBmngu3",
        "bKJF3rekwFvQ",
        "MSa1f5Uengrz",
        "0wOQAZs5pc--",
        "KSlN3yHqYklG",
        "t6dVpIINYklI",
        "ijmpgYnKYklI",
        "EM7whBJCYoAo",
        "85gYPyotYoAp",
        "4Of9eVA-YrdM",
        "bamQiAODYuh1",
        "QHF8YVU7Yuh3",
        "qYpmQ266Yuh3",
        "OH-pJp9IphqM",
        "PIIx-8_IphqN",
        "BZR9WyysphqO",
        "YJ55k-q6phqO",
        "x-EpHcCOp1ci",
        "n3dbpmDWp1ck",
        "Ag9LCva-p1cl",
        "NC_X3p0fY2L0",
        "q29F0dvdveiT",
        "JcMwzZxoAimU",
        "8G2x9gOozGDZ",
        "gCX9965dhzqZ"
      ],
      "include_colab_link": true
    },
    "kernelspec": {
      "name": "python3",
      "display_name": "Python 3"
    },
    "language_info": {
      "name": "python"
    }
  },
  "cells": [
    {
      "cell_type": "markdown",
      "metadata": {
        "id": "view-in-github",
        "colab_type": "text"
      },
      "source": [
        "<a href=\"https://colab.research.google.com/github/manishaachary13/EDA-Projects/blob/main/Airbnb_booking_analysis_RManishaAchary.ipynb\" target=\"_parent\"><img src=\"https://colab.research.google.com/assets/colab-badge.svg\" alt=\"Open In Colab\"/></a>"
      ]
    },
    {
      "cell_type": "markdown",
      "source": [
        "# **Project Name**    - **AirBnb Booking Analysis**\n",
        "\n"
      ],
      "metadata": {
        "id": "vncDsAP0Gaoa"
      }
    },
    {
      "cell_type": "markdown",
      "source": [
        "##### **Project Type**    - EDA\n",
        "##### **Contribution**    - Individual\n",
        "##### **Name**            - R Manisha Achary"
      ],
      "metadata": {
        "id": "beRrZCGUAJYm"
      }
    },
    {
      "cell_type": "markdown",
      "source": [
        "# **Project Summary -**"
      ],
      "metadata": {
        "id": "FJNUwmbgGyua"
      }
    },
    {
      "cell_type": "markdown",
      "source": [
        " **Airbnb, Inc** is an American company operating an online marketplace for short- and long-term homestays and experiences. Founded in **2008** by *Brian Chesky, Nathan Blecharczyk, and Joe Gebbia,* Airbnb has revolutionized the travel industry by offering unique and personalized lodging options compared to traditional hotels. Airbnb's mission is to foster a sense of belonging and create a world where anyone can feel at home anywhere.\n",
        "\n",
        "This project aims to explore and analyze an Airbnb dataset to uncover key trends and insights that can inform hosts and potential investors. Specifically, the analysis seeks to understand the distribution of listing prices, identify the most popular room types and their average prices, analyze the distribution of listings across different neighbourhoods, and explore seasonal booking trends and factors affecting bookings.By leveraging data analysis on millions of listings, Airbnb can enhance its security measures, business decisions, understanding of customer and host behavior, marketing strategies, and the implementation of innovative services.\n"
      ],
      "metadata": {
        "id": "F6v_1wHtG2nS"
      }
    },
    {
      "cell_type": "markdown",
      "source": [
        "# **GitHub Link -**"
      ],
      "metadata": {
        "id": "w6K7xa23Elo4"
      }
    },
    {
      "cell_type": "markdown",
      "source": [
        "https://github.com/manishaachary13/EDA-Projects/blob/dd69b00dc43a42994c7e4ae8283f5eab8d8ff868/Airbnb_booking_analysis_RManishaAchary.ipynb"
      ],
      "metadata": {
        "id": "h1o69JH3Eqqn"
      }
    },
    {
      "cell_type": "markdown",
      "source": [
        "# **Problem Statement**\n"
      ],
      "metadata": {
        "id": "yQaldy8SH6Dl"
      }
    },
    {
      "cell_type": "markdown",
      "source": [
        "Airbnb has transformed the hospitality industry by offering unique and personalized lodging options to travelers worldwide. However, to maintain its competitive edge and optimize its offerings, Airbnb needs to gain deeper insights into the patterns and trends within its vast array of listings. Understanding these patterns can help hosts optimize their pricing strategies, improve listing visibility, and enhance guest satisfaction.\n",
        "\n",
        "The primary problems addressed in this analysis are:\n",
        "\n",
        "\n",
        "*   **Price Distribution:** What is the distribution of listing prices, and what\n",
        "factors influence these prices?\n",
        "*   **Room Type Popularity:** What are the most common room types offered on Airbnb, and how do their prices compare?\n",
        "*   **Neighbourhood Analysis:** How are listings distributed across different neighbourhoods, and which neighbourhoods command higher prices?\n",
        "*   **Seasonal Trends:** Are there identifiable seasonal trends in booking demand, and how do they affect pricing and availability?"
      ],
      "metadata": {
        "id": "DpeJGUA3kjGy"
      }
    },
    {
      "cell_type": "markdown",
      "source": [
        "#### **Business Objective**"
      ],
      "metadata": {
        "id": "PH-0ReGfmX4f"
      }
    },
    {
      "cell_type": "markdown",
      "source": [
        "**Business Objectives**\n",
        "\n",
        "The primary business objectives of this Airbnb booking analysis project are to:\n",
        "\n",
        "1. **Optimize Pricing Strategies**: Identify pricing trends and factors influencing listing prices to help hosts set competitive and attractive prices, maximizing occupancy rates and revenue.\n",
        "2. **Improve Listing Visibility and Attractiveness**: Understand which room types and amenities are most popular and how their presence affects booking rates, guiding hosts in enhancing their listings.\n",
        "3. **Strategic Investment Decisions**: Provide potential investors with data on the most lucrative neighborhoods and types of properties, helping them make informed decisions about where to invest.\n",
        "4. **Seasonal Demand Management**: Analyze booking patterns across different seasons to help hosts adjust their availability and pricing dynamically, capitalizing on peak booking periods.\n",
        "5. **Customer and Host Behavior Insights**: Gain insights into customer preferences and host performance to improve user experience, tailor marketing strategies, and develop new features that meet user needs.\n",
        "6. **Marketing and Promotion**: Inform marketing initiatives by identifying key trends and target demographics, ensuring promotional efforts are effectively directed and yield the highest return on investment."
      ],
      "metadata": {
        "id": "PhDvGCAqmjP1"
      }
    },
    {
      "cell_type": "markdown",
      "source": [
        "# ***Let's Begin !***"
      ],
      "metadata": {
        "id": "O_i_v8NEhb9l"
      }
    },
    {
      "cell_type": "markdown",
      "source": [
        "## ***1. Know Your Data***"
      ],
      "metadata": {
        "id": "HhfV-JJviCcP"
      }
    },
    {
      "cell_type": "markdown",
      "source": [
        "### Import Libraries"
      ],
      "metadata": {
        "id": "Y3lxredqlCYt"
      }
    },
    {
      "cell_type": "code",
      "source": [
        "import pandas as pd              # Data manipulation and analysis\n",
        "import numpy as np               # Numerical operations\n",
        "import matplotlib.pyplot as plt  # Data visualization\n",
        "import seaborn as sns            # Enhanced data visualization"
      ],
      "metadata": {
        "id": "M8Vqi-pPk-HR"
      },
      "execution_count": null,
      "outputs": []
    },
    {
      "cell_type": "markdown",
      "source": [
        "### Dataset Loading"
      ],
      "metadata": {
        "id": "3RnN4peoiCZX"
      }
    },
    {
      "cell_type": "code",
      "source": [
        "# Load Dataset\n",
        "from google.colab import drive\n",
        "\n",
        "# Mount Google Drive\n",
        "drive.mount('/content/drive')\n",
        "# load dataset\n",
        "file_path = '/content/drive/MyDrive/dataset/Airbnb NYC 2019.csv'\n",
        "\n",
        "\n"
      ],
      "metadata": {
        "id": "4CkvbW_SlZ_R",
        "collapsed": true
      },
      "execution_count": null,
      "outputs": []
    },
    {
      "cell_type": "markdown",
      "source": [
        "### Dataset First View"
      ],
      "metadata": {
        "id": "x71ZqKXriCWQ"
      }
    },
    {
      "cell_type": "code",
      "source": [
        "# Dataset First Look\n",
        "encodings = ['utf-8', 'latin1', 'ISO-8859-1', 'utf-16']\n",
        "for encoding in encodings:\n",
        "    try:\n",
        "        df = pd.read_csv(file_path, encoding=encoding)\n",
        "        print(\"CSV file read successfully using encoding:\", encoding)\n",
        "        break\n",
        "    except UnicodeDecodeError:\n",
        "        print(\"Error decoding with encoding:\", encoding)"
      ],
      "metadata": {
        "id": "LWNFOSvLl09H"
      },
      "execution_count": null,
      "outputs": []
    },
    {
      "cell_type": "code",
      "source": [
        "# display first few rows of data\n",
        "print(df.head())"
      ],
      "metadata": {
        "collapsed": true,
        "id": "p3wvWtCEZHtP"
      },
      "execution_count": null,
      "outputs": []
    },
    {
      "cell_type": "markdown",
      "source": [
        "### Dataset Rows & Columns count"
      ],
      "metadata": {
        "id": "7hBIi_osiCS2"
      }
    },
    {
      "cell_type": "code",
      "source": [
        "# Dataset Rows & Columns count\n",
        "df.shape"
      ],
      "metadata": {
        "id": "Kllu7SJgmLij"
      },
      "execution_count": null,
      "outputs": []
    },
    {
      "cell_type": "markdown",
      "source": [
        "### Dataset Information"
      ],
      "metadata": {
        "id": "JlHwYmJAmNHm"
      }
    },
    {
      "cell_type": "code",
      "source": [
        "# Dataset Info\n",
        "df.info()"
      ],
      "metadata": {
        "id": "e9hRXRi6meOf"
      },
      "execution_count": null,
      "outputs": []
    },
    {
      "cell_type": "markdown",
      "source": [
        "#### Duplicate Values"
      ],
      "metadata": {
        "id": "35m5QtbWiB9F"
      }
    },
    {
      "cell_type": "code",
      "source": [
        "# Dataset Duplicate Value Count\n",
        "# Count duplicate rows in the DataFrame\n",
        "duplicate_count = df.duplicated().sum()\n",
        "\n",
        "print(\"Number of duplicate rows:\", duplicate_count)\n"
      ],
      "metadata": {
        "id": "1sLdpKYkmox0"
      },
      "execution_count": null,
      "outputs": []
    },
    {
      "cell_type": "markdown",
      "source": [
        "#### Missing Values/Null Values"
      ],
      "metadata": {
        "id": "PoPl-ycgm1ru"
      }
    },
    {
      "cell_type": "code",
      "source": [
        "# Missing Values/Null Values Count\n",
        "# Count missing values in each column of the DataFrame\n",
        "missing_values_count = df.isnull().sum()\n",
        "\n",
        "print(\"Missing values count per column:\")\n",
        "print(missing_values_count)\n"
      ],
      "metadata": {
        "id": "GgHWkxvamxVg"
      },
      "execution_count": null,
      "outputs": []
    },
    {
      "cell_type": "code",
      "source": [
        "# Generate heatmap to visualize missing values\n",
        "plt.figure(figsize=(8, 6))\n",
        "sns.heatmap(df.isnull(), cmap='viridis', cbar=False, yticklabels=False)\n",
        "plt.title('Missing Values Heatmap')\n",
        "plt.show()"
      ],
      "metadata": {
        "id": "3q5wnI3om9sJ"
      },
      "execution_count": null,
      "outputs": []
    },
    {
      "cell_type": "markdown",
      "source": [
        "### What did you know about your dataset?"
      ],
      "metadata": {
        "id": "H0kj-8xxnORC"
      }
    },
    {
      "cell_type": "markdown",
      "source": [
        "Dataset Overview:\n",
        "\n",
        "*   Dimensions: The dataset has 48,895 rows and 16 columns.\n",
        "\n",
        "*   Data Types: There are columns of type int64, float64, and object.\n",
        "*   Missing Values: Several columns have missing values:\n",
        "\n",
        "   1.   name: 16 missing values\n",
        "   2.   host_name: 21 missing values\n",
        "   3.   last_review: 10,052 missing values\n",
        "   4.   reviews_per_month: 10,052 missing values\n",
        "   5.   Duplicates: There are no duplicate rows in the dataset."
      ],
      "metadata": {
        "id": "gfoNAAC-nUe_"
      }
    },
    {
      "cell_type": "markdown",
      "source": [
        "## ***2. Understanding Your Variables***"
      ],
      "metadata": {
        "id": "nA9Y7ga8ng1Z"
      }
    },
    {
      "cell_type": "code",
      "source": [
        "# Dataset Columns\n",
        "df.columns"
      ],
      "metadata": {
        "id": "j7xfkqrt5Ag5"
      },
      "execution_count": null,
      "outputs": []
    },
    {
      "cell_type": "code",
      "source": [
        "# Dataset Describe\n",
        "df.describe()"
      ],
      "metadata": {
        "id": "DnOaZdaE5Q5t"
      },
      "execution_count": null,
      "outputs": []
    },
    {
      "cell_type": "markdown",
      "source": [
        "### Variables Description"
      ],
      "metadata": {
        "id": "PBTbrJXOngz2"
      }
    },
    {
      "cell_type": "markdown",
      "source": [
        "**Columns and Their Descriptions:**\n",
        "\n",
        "1.   **id:** ID of the listing\n",
        "2.**name:** Name of the listing\n",
        "3.**host_id:** ID of the host\n",
        "4.**host_name:** Name of the host\n",
        "5.**neighbourhood_group:** Group of neighbourhoods\n",
        "6.**neighbourhood:** Specific neighbourhood\n",
        "7.**latitude:** Latitude coordinate of the listing\n",
        "8.**longitude:** Longitude coordinate of the listing\n",
        "9.**room_type:** Type of room offered\n",
        "10.**price**: Price per night for the listing\n",
        "11.**minimum_nights**: Minimum nights to be paid for\n",
        "12.**number_of_reviews**: Total number of reviews for the listing\n",
        "13.**last_review**: Date of the last review\n",
        "14.**reviews_per_month**: Average number of reviews per month\n",
        "15.**calculated_host_listings_count**: Total count\n",
        "16.**availability_365**: Number of days the listing is available within a year"
      ],
      "metadata": {
        "id": "aJV4KIxSnxay"
      }
    },
    {
      "cell_type": "markdown",
      "source": [
        "### Check Unique Values for each variable."
      ],
      "metadata": {
        "id": "u3PMJOP6ngxN"
      }
    },
    {
      "cell_type": "code",
      "source": [
        "# Check Unique Values for each variable.\n",
        "# Assuming 'df' is your DataFrame\n",
        "for column in df.columns:\n",
        "    unique_values = df[column].unique()\n",
        "    print(f\"Unique values for {column}:\", unique_values)\n",
        "    print(\"--\"*30)\n"
      ],
      "metadata": {
        "id": "zms12Yq5n-jE",
        "collapsed": true
      },
      "execution_count": null,
      "outputs": []
    },
    {
      "cell_type": "markdown",
      "source": [
        "## 3. ***Data Wrangling***"
      ],
      "metadata": {
        "id": "dauF4eBmngu3"
      }
    },
    {
      "cell_type": "markdown",
      "source": [
        "### Data Wrangling Code"
      ],
      "metadata": {
        "id": "bKJF3rekwFvQ"
      }
    },
    {
      "cell_type": "code",
      "source": [
        "# drop data where name and host name missing found\n",
        "df.dropna(subset=['name', 'host_name'], inplace=True)\n"
      ],
      "metadata": {
        "id": "wk-9a2fpoLcV",
        "collapsed": true
      },
      "execution_count": null,
      "outputs": []
    },
    {
      "cell_type": "code",
      "source": [
        "# fill 0 inplace null\n",
        "df[\"reviews_per_month\"] = df[\"reviews_per_month\"].fillna(0)"
      ],
      "metadata": {
        "id": "pY1OIv_m2MHr"
      },
      "execution_count": null,
      "outputs": []
    },
    {
      "cell_type": "markdown",
      "source": [
        "### What all manipulations have you done and insights you found?"
      ],
      "metadata": {
        "id": "MSa1f5Uengrz"
      }
    },
    {
      "cell_type": "markdown",
      "source": [
        "**Handling Missing name and host_name Data:**\n",
        "In the Airbnb dataset used for analysis, missing values were identified in the name and host_name columns. With careful consideration of the dataset size and the impact on subsequent analyses, rows containing missing name or host_name entries were removed. This decision was made to maintain data integrity and ensure reliable insights.\n",
        "\n",
        "**Handling Missing Values in last_review and reviews_per_month Columns:**\n",
        "\n",
        "The dataset from Airbnb includes missing values in the last_review and reviews_per_month columns. These missing values were intentionally retained as null entries. Given that not all guests provide reviews, these null values reflect instances where reviews were not submitted. And the missing values of reviewa_per_month column has filles with 0."
      ],
      "metadata": {
        "id": "LbyXE7I1olp8"
      }
    },
    {
      "cell_type": "markdown",
      "source": [
        "## ***4. Data Vizualization, Storytelling & Experimenting with charts***"
      ],
      "metadata": {
        "id": "GF8Ens_Soomf"
      }
    },
    {
      "cell_type": "markdown",
      "source": [
        "#### Chart - 1: Location and Prices of Airbnb Listing"
      ],
      "metadata": {
        "id": "0wOQAZs5pc--"
      }
    },
    {
      "cell_type": "code",
      "source": [
        "# Chart - 1\n",
        "import matplotlib.pyplot as plt\n",
        "\n",
        "# Data\n",
        "latitudes = df['latitude']\n",
        "longitudes = df['longitude']\n",
        "prices = df['price']\n",
        "\n",
        "# Create a scatter plot\n",
        "plt.figure(figsize=(10, 6))\n",
        "plt.scatter(longitudes, latitudes, c=prices, cmap='cool', s=100, alpha=0.75)\n",
        "\n",
        "# Add labels and title\n",
        "plt.xlabel('Longitude')\n",
        "plt.ylabel('Latitude')\n",
        "plt.title('Locations and Prices of Airbnb Listings')\n",
        "\n",
        "# Add color bar\n",
        "plt.colorbar(label='Price ($)')\n",
        "\n",
        "\n",
        "# Show plot\n",
        "plt.tight_layout()\n",
        "plt.grid(True)\n",
        "plt.show()\n"
      ],
      "metadata": {
        "id": "7v_ESjsspbW7"
      },
      "execution_count": null,
      "outputs": []
    },
    {
      "cell_type": "markdown",
      "source": [
        "#### Chart - 2: Distribution of Room Types"
      ],
      "metadata": {
        "id": "KSlN3yHqYklG"
      }
    },
    {
      "cell_type": "code",
      "source": [
        "\n",
        "\n",
        "plt.figure(figsize=(8, 6))\n",
        "sns.countplot(x='room_type', data=df, palette='viridis')\n",
        "plt.title('Distribution of Room Types')\n",
        "plt.xlabel('Room Type')\n",
        "plt.ylabel('Count')\n",
        "plt.xticks(rotation=45)\n",
        "plt.show()\n"
      ],
      "metadata": {
        "id": "R4YgtaqtYklH"
      },
      "execution_count": null,
      "outputs": []
    },
    {
      "cell_type": "markdown",
      "source": [
        "##### 1. Why did we pick the specific chart?"
      ],
      "metadata": {
        "id": "t6dVpIINYklI"
      }
    },
    {
      "cell_type": "markdown",
      "source": [
        "I chose a **Bar chart** for visualizing the **Distribution of Room Types** because it is ideal for comparing categorical data, making it easy to see and compare the frequencies of different room types. Bar charts are straightforward and clear, allowing for quick interpretation of the data. They also enable effective highlighting of differences between categories and are highly customizable, allowing for additional details like annotations."
      ],
      "metadata": {
        "id": "5aaW0BYyYklI"
      }
    },
    {
      "cell_type": "markdown",
      "source": [
        "##### 2. What is/are the insight(s) found from the chart?"
      ],
      "metadata": {
        "id": "ijmpgYnKYklI"
      }
    },
    {
      "cell_type": "markdown",
      "source": [
        "From the chart \"Distribution of Room Types,\" we can derive the following insights:\n",
        "\n",
        "1.  Prevalence of Entire Home/Apt: The most common type of room in the Airbnb\n",
        "listings is \"Entire home/apt,\" with the highest count among all room types.\n",
        "2.  Significant Number of Private Rooms: \"Private room\" is the second most common type, indicating a substantial number of listings offer private rooms within a larger property.\n",
        "3.  Low Proportion of Shared Rooms: \"Shared room\" has the lowest count, suggesting that fewer hosts are offering shared accommodations compared to private rooms or entire homes/apartments.\n",
        "4.  Market Composition: The distribution highlights that the market is dominated by entire properties and private rooms, which may reflect traveler preferences for more private or exclusive accommodations."
      ],
      "metadata": {
        "id": "PSx9atu2YklI"
      }
    },
    {
      "cell_type": "markdown",
      "source": [
        "##### 3. Will the gained insights help creating a positive business impact?\n",
        "Are there any insights that lead to negative growth? Justify with specific reason."
      ],
      "metadata": {
        "id": "-JiQyfWJYklI"
      }
    },
    {
      "cell_type": "markdown",
      "source": [
        "Positive Business Impact:\n",
        "\n",
        "1. Strategic Investment:The dominance of \"Entire home/apt\" listings indicates a high demand for entire properties. Investing in entire properties can lead to higher occupancy rates and increased revenue.\n",
        "   \n",
        "2. Marketing Focus:A significant number of \"Private room\" listings suggest a market for budget-conscious or solo travelers. Targeted marketing campaigns can attract this segment, increasing bookings and revenue.\n",
        "   \n",
        "3. Product Differentiation:The low number of \"Shared room\" listings could imply a niche market. Enhancing the appeal of shared accommodations can attract budget travelers and create unique value propositions.\n",
        "\n",
        "Negative Growth Insights:\n",
        "\n",
        "1. Market Saturation:The high number of \"Entire home/apt\" and \"Private room\" listings may indicate market saturation. Intense competition in a saturated market can lead to price wars and lower profit margins.\n",
        "   \n",
        "2. Risk of Overinvestment:Focusing heavily on the most common room types could lead to overinvestment. Market shifts or economic downturns may reduce demand for these categories, leading to potential financial losses.\n",
        "   \n",
        "3. Neglect of Alternative Options:The low number of \"Shared room\" listings suggests a neglected segment. Ignoring this segment might mean missing out on opportunities to attract budget travelers looking for communal living experiences.\n",
        "\n",
        "Justification:\n",
        "\n",
        "Positive Impact: The insights about room type distribution can guide strategic decisions, helping businesses align their offerings with market demand and target specific customer segments effectively.\n",
        "\n",
        "Negative Growth Potential: Overemphasis on the most common categories without considering market dynamics and alternative segments might lead to issues like saturation and missed opportunities."
      ],
      "metadata": {
        "id": "BcBbebzrYklV"
      }
    },
    {
      "cell_type": "markdown",
      "source": [
        "#### Chart - 3: Distribution of Airbnb Listing by Neighbourhood Group"
      ],
      "metadata": {
        "id": "EM7whBJCYoAo"
      }
    },
    {
      "cell_type": "code",
      "source": [
        "# Chart - 3\n",
        "plt.figure(figsize=(10, 6))\n",
        "sns.countplot(x='neighbourhood_group', data=df, palette='Set2')\n",
        "plt.title('Distribution of Airbnb Listings by Neighbourhood Group')\n",
        "plt.xlabel('Neighbourhood Group')\n",
        "plt.ylabel('Count')\n",
        "plt.xticks(rotation=45)\n",
        "plt.show()\n",
        "\n"
      ],
      "metadata": {
        "id": "t6GMdE67YoAp"
      },
      "execution_count": null,
      "outputs": []
    },
    {
      "cell_type": "markdown",
      "source": [
        "##### 2. What is/are the insight(s) found from the chart?"
      ],
      "metadata": {
        "id": "85gYPyotYoAp"
      }
    },
    {
      "cell_type": "markdown",
      "source": [
        "1.  The chart shows that Manhattan and Brooklyn have the highest number of Airbnb listings, significantly more than other boroughs.\n",
        "2.Queens, Staten Island, and Bronx have considerably fewer listings compared to Manhattan and Brooklyn, indicating underrepresentation.\n",
        "3. The high number of listings in Manhattan and Brooklyn suggests strong demand in these areas. Focusing investments and marketing efforts in these boroughs can leverage the existing high demand to maximize occupancy rates and revenue.\n",
        "4.The high number of listings in Manhattan and Brooklyn may indicate market saturation. Intense competition in these saturated markets can lead to price wars and reduced profit margins, negatively impacting revenue."
      ],
      "metadata": {
        "id": "4jstXR6OYoAp"
      }
    },
    {
      "cell_type": "markdown",
      "source": [
        "##### 3. Will the gained insights help creating a positive business impact?\n",
        "Are there any insights that lead to negative growth? Justify with specific reason."
      ],
      "metadata": {
        "id": "RoGjAbkUYoAp"
      }
    },
    {
      "cell_type": "markdown",
      "source": [
        "Justification:\n",
        "\n",
        "**Positive Impact:**\n",
        "\n",
        "Focusing on high-demand areas like Manhattan and Brooklyn ensures alignment with market demand, which can lead to higher occupancy rates and increased revenue.\n",
        "Strategic marketing in these areas can capitalize on their popularity, attracting more guests and boosting bookings.\n",
        "\n",
        "**Negative Growth Potential:**\n",
        "\n",
        "Market saturation in Manhattan and Brooklyn could result in intense competition, forcing hosts to lower prices to attract guests, which reduces profit margins.\n",
        "Ignoring underrepresented boroughs like Queens, Staten Island, and Bronx could mean missing out on potential growth opportunities in less competitive markets."
      ],
      "metadata": {
        "id": "zfJ8IqMcYoAp"
      }
    },
    {
      "cell_type": "markdown",
      "source": [
        "#### Chart - 4: Average Price by Room Type and Neighbourhood Group"
      ],
      "metadata": {
        "id": "4Of9eVA-YrdM"
      }
    },
    {
      "cell_type": "code",
      "source": [
        "# Chart - 4\n",
        "plt.figure(figsize=(12, 8))\n",
        "sns.barplot(x='neighbourhood_group', y='price', hue='room_type', data=df, palette='muted', ci=None)\n",
        "plt.title('Average Price by Room Type and Neighbourhood Group')\n",
        "plt.xlabel('Neighbourhood Group')\n",
        "plt.ylabel('Average Price ($)')\n",
        "plt.xticks(rotation=45)\n",
        "plt.legend(title='Room Type')\n",
        "plt.show()\n"
      ],
      "metadata": {
        "id": "irlUoxc8YrdO"
      },
      "execution_count": null,
      "outputs": []
    },
    {
      "cell_type": "markdown",
      "source": [
        "##### 2. What is/are the insight(s) found from the chart?"
      ],
      "metadata": {
        "id": "F6T5p64dYrdO"
      }
    },
    {
      "cell_type": "markdown",
      "source": [
        "The chart shows that Manhattan have the highest number of Airbnb listings, significantly more than other Neighbourhood groups."
      ],
      "metadata": {
        "id": "Xx8WAJvtYrdO"
      }
    },
    {
      "cell_type": "markdown",
      "source": [
        "#### Chart - 5: Price Distribution by Neighbourhood Gruop"
      ],
      "metadata": {
        "id": "bamQiAODYuh1"
      }
    },
    {
      "cell_type": "code",
      "source": [
        "# Chart - 5\n",
        "\n",
        "\n",
        "# Set up the matplotlib figure size\n",
        "plt.figure(figsize=(10, 8))\n",
        "\n",
        "# Create the box plot using seaborn\n",
        "sns.boxplot(x='neighbourhood_group', y='price', data=df, palette='viridis')\n",
        "\n",
        "# Customize the plot\n",
        "plt.title('Price Distribution by Neighbourhood Group')\n",
        "plt.xlabel('Neighbourhood Group')\n",
        "plt.ylabel('Price ($)')\n",
        "plt.xticks(rotation=45)\n",
        "\n",
        "# Show the plot\n",
        "plt.tight_layout()\n",
        "plt.show()\n"
      ],
      "metadata": {
        "id": "TIJwrbroYuh3"
      },
      "execution_count": null,
      "outputs": []
    },
    {
      "cell_type": "markdown",
      "source": [
        "##### 1. Why did you pick the specific chart?"
      ],
      "metadata": {
        "id": "QHF8YVU7Yuh3"
      }
    },
    {
      "cell_type": "markdown",
      "source": [
        "The box plot is a suitable choice for this analysis because it effectively summarizes the distribution of prices across different neighborhood groups."
      ],
      "metadata": {
        "id": "dcxuIMRPYuh3"
      }
    },
    {
      "cell_type": "markdown",
      "source": [
        "##### 2. What is/are the insight(s) found from the chart?"
      ],
      "metadata": {
        "id": "GwzvFGzlYuh3"
      }
    },
    {
      "cell_type": "markdown",
      "source": [
        "Insights:\n",
        "Median Prices: Manhattan has the highest median price among the neighborhood groups, followed by Brooklyn, Queens, Staten Island, and the Bronx.\n",
        "Price Spread: Manhattan and Brooklyn have a wider spread of prices, indicating more variability in the listings' prices.\n",
        "Outliers: All neighborhood groups exhibit outliers, but Manhattan has the most significant number of high-price outliers, indicating the presence of high-end listings.\n",
        "Comparison: The Bronx, Staten Island, and Queens have lower median prices and less variability compared to Manhattan and Brooklyn."
      ],
      "metadata": {
        "id": "uyqkiB8YYuh3"
      }
    },
    {
      "cell_type": "markdown",
      "source": [
        "##### 3. Will the gained insights help creating a positive business impact?\n",
        "Are there any insights that lead to negative growth? Justify with specific reason."
      ],
      "metadata": {
        "id": "qYpmQ266Yuh3"
      }
    },
    {
      "cell_type": "markdown",
      "source": [
        "Justification:\n",
        "1.   Managing Competition: The high variability in prices within Manhattan and\n",
        "Brooklyn suggests that while there is potential for high revenue, it also indicates fierce competition. If not strategically managed, this could result in negative growth due to price wars or market saturation.\n",
        "2. Occupancy Rates: Mispricing in lower-cost areas could lead to lower occupancy rates, negatively impacting overall revenue. It's crucial to align pricing strategies with market demand and sensitivity to maintain growth."
      ],
      "metadata": {
        "id": "_WtzZ_hCYuh4"
      }
    },
    {
      "cell_type": "markdown",
      "source": [
        "#### Chart - 6: Listing Density Heatmap"
      ],
      "metadata": {
        "id": "OH-pJp9IphqM"
      }
    },
    {
      "cell_type": "code",
      "source": [
        "# Chart - 6\n",
        "import matplotlib.pyplot as plt\n",
        "import seaborn as sns\n",
        "\n",
        "# Set up the matplotlib figure size\n",
        "plt.figure(figsize=(10, 8))\n",
        "\n",
        "# Create the heatmap using seaborn\n",
        "sns.histplot(x=df['longitude'], y=df['latitude'], bins=100, cmap='viridis',cbar=True)\n",
        "\n",
        "# Customize the plot\n",
        "plt.title('Listing Density Heatmap')\n",
        "plt.xlabel('Longitude')\n",
        "plt.ylabel('Latitude')\n",
        "\n",
        "\n",
        "# Show the plot\n",
        "plt.tight_layout()\n",
        "plt.show()\n"
      ],
      "metadata": {
        "id": "kuRf4wtuphqN"
      },
      "execution_count": null,
      "outputs": []
    },
    {
      "cell_type": "markdown",
      "source": [
        "#####  What is/are the insight(s) found from the chart?"
      ],
      "metadata": {
        "id": "_ouA3fa0phqN"
      }
    },
    {
      "cell_type": "markdown",
      "source": [
        "\n",
        "\n",
        "*   Managing Saturation: While high-density areas indicate high demand, they also imply greater competition. If not managed well, this could result in reduced profitability due to price wars or an oversupply of listings.\n",
        "*   Balanced Focus: Neglecting low-density areas could mean missing out on opportunities for growth. These areas might have lower competition and could become lucrative markets with the right strategy."
      ],
      "metadata": {
        "id": "VECbqPI7phqN"
      }
    },
    {
      "cell_type": "markdown",
      "source": [
        "#### Chart - 7: Number of Reviews in terms of Neighbourhood Group"
      ],
      "metadata": {
        "id": "PIIx-8_IphqN"
      }
    },
    {
      "cell_type": "code",
      "source": [
        "# Chart - 7\n",
        "import matplotlib.pyplot as plt\n",
        "\n",
        "# Group by 'neighbourhood_group' and get the max 'number_of_reviews', then reset the index\n",
        "area_reviews = df.groupby(['neighbourhood_group'])['number_of_reviews'].max().reset_index()\n",
        "area_reviews\n",
        "\n",
        "# Extract the 'neighbourhood_group' and 'number_of_reviews' columns\n",
        "area = area_reviews['neighbourhood_group']\n",
        "review = area_reviews['number_of_reviews']\n",
        "\n",
        "# Create the plot\n",
        "fig = plt.figure(figsize=(10, 5))\n",
        "plt.bar(area, review, color='blue', width=0.5)\n",
        "plt.xlabel('Area')\n",
        "plt.ylabel('Reviews')\n",
        "plt.title('Number of Reviews in terms of Neighbourhood Group')\n",
        "plt.show()\n"
      ],
      "metadata": {
        "id": "lqAIGUfyphqO"
      },
      "execution_count": null,
      "outputs": []
    },
    {
      "cell_type": "markdown",
      "source": [
        "#####  What is/are the insight(s) found from the chart?"
      ],
      "metadata": {
        "id": "r2jJGEOYphqO"
      }
    },
    {
      "cell_type": "markdown",
      "source": [
        "The Queeens Neighbourhood Group gives more reviews followed by Manhattan, Brooklyn and others."
      ],
      "metadata": {
        "id": "Po6ZPi4hphqO"
      }
    },
    {
      "cell_type": "markdown",
      "source": [
        "#### Chart - 8: Busiest Hosts in terms of Reviews\n"
      ],
      "metadata": {
        "id": "BZR9WyysphqO"
      }
    },
    {
      "cell_type": "code",
      "source": [
        "# Chart - 8\n",
        "import matplotlib.pyplot as plt\n",
        "\n",
        "# Group by 'host_id', 'host_name', and 'room_type', and get the max 'number_of_reviews', then reset the index\n",
        "busy_hosts = df.groupby(['host_id', 'host_name', 'room_type'])['number_of_reviews'].max().reset_index()\n",
        "\n",
        "# Sort the DataFrame by 'number_of_reviews' in descending order and select the top 10\n",
        "busy_hosts = busy_hosts.sort_values(by='number_of_reviews', ascending=False).head(10)\n",
        "busy_hosts\n",
        "\n",
        "# Extract the 'host_name' and 'number_of_reviews' columns\n",
        "name_hosts = busy_hosts['host_name']\n",
        "review_got = busy_hosts['number_of_reviews']\n",
        "\n",
        "# Create the plot\n",
        "fig = plt.figure(figsize=(10, 5))\n",
        "plt.bar(name_hosts, review_got, color='purple', width=0.5)\n",
        "plt.xlabel('Host Name')\n",
        "plt.ylabel('Number of Reviews')\n",
        "plt.title('Busiest Hosts in Terms of Reviews')\n",
        "plt.xticks(rotation=45)  # Rotate x-axis labels for better readability\n",
        "plt.show()\n",
        "\n"
      ],
      "metadata": {
        "id": "TdPTWpAVphqO"
      },
      "execution_count": null,
      "outputs": []
    },
    {
      "cell_type": "markdown",
      "source": [
        "#### Chart - 9: Hosts with Maximum Price Charge"
      ],
      "metadata": {
        "id": "YJ55k-q6phqO"
      }
    },
    {
      "cell_type": "code",
      "source": [
        "# Chart - 9\n",
        "highest_price=df.groupby(['host_id','host_name','room_type','neighbourhood_group'])['price'].max().reset_index()\n",
        "highest_price=highest_price.sort_values(by='price',ascending=False).head(10)\n",
        "highest_price\n",
        "\n",
        "name_of_host=highest_price['host_name']\n",
        "price_charge=highest_price['price']\n",
        "fig=plt.figure(figsize=(10,5))\n",
        "plt.bar(name_of_host,price_charge,color='orange',width=.5)\n",
        "plt.xlabel(\"Host names\")\n",
        "plt.ylabel(\"price\")\n",
        "plt.title('Hosts with Maximum Price Charge')\n",
        "plt.show()"
      ],
      "metadata": {
        "id": "B2aS4O1ophqO"
      },
      "execution_count": null,
      "outputs": []
    },
    {
      "cell_type": "markdown",
      "source": [
        "#### Chart - 10: Average Price of Airbnb Listing over time"
      ],
      "metadata": {
        "id": "x-EpHcCOp1ci"
      }
    },
    {
      "cell_type": "code",
      "source": [
        "# Chart - 10\n",
        "\n",
        "\n",
        "# Assuming 'last_review' is a datetime column, convert it to datetime format\n",
        "df['last_review'] = pd.to_datetime(df['last_review'])\n",
        "\n",
        "# Group by 'last_review' and calculate average price per month\n",
        "average_price_per_month = df.resample('M', on='last_review')['price'].mean()\n",
        "\n",
        "# Plotting the line plot\n",
        "plt.figure(figsize=(10, 6))\n",
        "plt.plot(average_price_per_month.index, average_price_per_month.values, marker='o', linestyle='-')\n",
        "plt.title('Average Price of Airbnb Listings over Time')\n",
        "plt.xlabel('Month')\n",
        "plt.ylabel('Average Price ($)')\n",
        "plt.grid(True)\n",
        "plt.tight_layout()\n",
        "\n",
        "# Show plot\n",
        "plt.show()\n"
      ],
      "metadata": {
        "id": "mAQTIvtqp1cj"
      },
      "execution_count": null,
      "outputs": []
    },
    {
      "cell_type": "markdown",
      "source": [
        "##### 1. Why did you pick the specific chart?"
      ],
      "metadata": {
        "id": "X_VqEhTip1ck"
      }
    },
    {
      "cell_type": "markdown",
      "source": [
        "The line chart showing the average price of Airbnb listings over time was selected because it is ideal for Trend Analysis, Historical Data and Identifying Peaks and Thoughts."
      ],
      "metadata": {
        "id": "-vsMzt_np1ck"
      }
    },
    {
      "cell_type": "markdown",
      "source": [
        "##### 2. What is/are the insight(s) found from the chart?"
      ],
      "metadata": {
        "id": "8zGJKyg5p1ck"
      }
    },
    {
      "cell_type": "markdown",
      "source": [
        "Insights:\n",
        "* Price Volatility: There is significant volatility in prices, with noticeable peaks in 2014 and 2015.\n",
        "* Stabilization: Prices appear to stabilize after 2016, with fewer extreme peaks and a more consistent trend.\n"
      ],
      "metadata": {
        "id": "ZYdMsrqVp1ck"
      }
    },
    {
      "cell_type": "markdown",
      "source": [
        "##### 3. Will the gained insights help creating a positive business impact?\n",
        "Are there any insights that lead to negative growth? Justify with specific reason."
      ],
      "metadata": {
        "id": "PVzmfK_Ep1ck"
      }
    },
    {
      "cell_type": "markdown",
      "source": [
        "Justification:\n",
        "* Managing Volatility: While price peaks can lead to high revenue in the short term, they also suggest periods of instability. Consistent volatility can make it challenging to maintain steady growth and could lead to negative perceptions among potential investors.\n",
        "* External Factors: Peaks followed by dips might be influenced by factors outside the control of the business, such as changes in tourism trends, economic conditions, or regulatory impacts. These can lead to unpredictable revenue streams and require adaptive strategies to mitigate risks."
      ],
      "metadata": {
        "id": "druuKYZpp1ck"
      }
    },
    {
      "cell_type": "markdown",
      "source": [
        "#### Chart - 11: Number of reviews per month"
      ],
      "metadata": {
        "id": "n3dbpmDWp1ck"
      }
    },
    {
      "cell_type": "code",
      "source": [
        "# Chart - 11\n",
        "\n",
        "# Assuming 'last_review' is a datetime column, convert it to datetime format\n",
        "df['last_review'] = pd.to_datetime(df['last_review'])\n",
        "\n",
        "# Group by 'last_review' and count number of reviews per month\n",
        "reviews_per_month = df.resample('M', on='last_review').size()\n",
        "\n",
        "# Plotting the line plot\n",
        "plt.figure(figsize=(10, 6))\n",
        "plt.plot(reviews_per_month.index, reviews_per_month.values, marker='o', linestyle='-')\n",
        "plt.title('Number of Reviews per Month')\n",
        "plt.xlabel('Month')\n",
        "plt.ylabel('Number of Reviews')\n",
        "\n",
        "plt.tight_layout()\n",
        "\n",
        "# Show plot\n",
        "plt.show()\n"
      ],
      "metadata": {
        "id": "bwevp1tKp1ck"
      },
      "execution_count": null,
      "outputs": []
    },
    {
      "cell_type": "markdown",
      "source": [
        "##### What are the insights of this chart?"
      ],
      "metadata": {
        "id": "M7G43BXep1ck"
      }
    },
    {
      "cell_type": "markdown",
      "source": [
        "After 2019 people giving reviews."
      ],
      "metadata": {
        "id": "5wwDJXsLp1cl"
      }
    },
    {
      "cell_type": "markdown",
      "source": [
        "#### Chart - 12: Distribution of Room Types in Airbnb Listings"
      ],
      "metadata": {
        "id": "Ag9LCva-p1cl"
      }
    },
    {
      "cell_type": "code",
      "source": [
        "# Chart - 12\n",
        "\n",
        "# Count the occurrences of each room type\n",
        "room_type_counts = df['room_type'].value_counts()\n",
        "\n",
        "# Plotting the pie chart\n",
        "plt.figure(figsize=(8, 6))\n",
        "plt.pie(room_type_counts, labels=room_type_counts.index, autopct='%1.1f%%', startangle=140, colors=['#66c2a5', '#fc8d62', '#8da0cb', '#e78ac3'])\n",
        "plt.title('Distribution of Room Types in Airbnb Listings')\n",
        "plt.axis('equal')  # Equal aspect ratio ensures that pie is drawn as a circle.\n",
        "\n",
        "# Show plot\n",
        "plt.show()\n"
      ],
      "metadata": {
        "id": "EUfxeq9-p1cl"
      },
      "execution_count": null,
      "outputs": []
    },
    {
      "cell_type": "markdown",
      "source": [
        "#### Chart - 13 - Correlation Heatmap"
      ],
      "metadata": {
        "id": "NC_X3p0fY2L0"
      }
    },
    {
      "cell_type": "code",
      "source": [
        "# Correlation Heatmap visualization code\n",
        "\n",
        "\n",
        "# Selecting numeric columns for the correlation heatmap\n",
        "numeric_columns = ['price', 'minimum_nights', 'number_of_reviews', 'reviews_per_month', 'calculated_host_listings_count', 'availability_365']\n",
        "\n",
        "# Calculate the correlation matrix\n",
        "corr_matrix = df[numeric_columns].corr()\n",
        "\n",
        "# Create a heatmap using seaborn\n",
        "plt.figure(figsize=(10, 8))\n",
        "sns.heatmap(corr_matrix, annot=True, cmap='coolwarm', fmt='.2f', annot_kws={\"size\": 10})\n",
        "plt.title('Correlation Heatmap of Airbnb Data')\n",
        "plt.show()\n"
      ],
      "metadata": {
        "id": "xyC9zolEZNRQ"
      },
      "execution_count": null,
      "outputs": []
    },
    {
      "cell_type": "markdown",
      "source": [
        "#### Chart - 14 - Pair Plot"
      ],
      "metadata": {
        "id": "q29F0dvdveiT"
      }
    },
    {
      "cell_type": "code",
      "source": [
        "# Pair Plot visualization code\n",
        "# Selecting numeric columns for the pair plot\n",
        "numeric_columns = ['price', 'minimum_nights', 'number_of_reviews', 'reviews_per_month', 'calculated_host_listings_count', 'availability_365']\n",
        "\n",
        "# Create a pair plot using seaborn\n",
        "sns.pairplot(df[numeric_columns])\n",
        "\n",
        "# Show the plot\n",
        "plt.show()\n"
      ],
      "metadata": {
        "id": "o58-TEIhveiU"
      },
      "execution_count": null,
      "outputs": []
    },
    {
      "cell_type": "markdown",
      "source": [
        "## **5. Solution to Business Objective**"
      ],
      "metadata": {
        "id": "JcMwzZxoAimU"
      }
    },
    {
      "cell_type": "markdown",
      "source": [
        "#### What do you suggest the client to achieve Business Objective ?"
      ],
      "metadata": {
        "id": "8G2x9gOozGDZ"
      }
    },
    {
      "cell_type": "markdown",
      "source": [
        "\n",
        "**1. Optimize Pricing Strategies**\n",
        "- **Dynamic Pricing:** Implement dynamic pricing models that adjust rates based on real-time demand, seasonality, local events, and competition. Utilize historical data to predict peak periods and adjust prices accordingly.\n",
        "- **Competitive Analysis:** Regularly benchmark prices against competitors in similar neighborhoods and for similar property types to ensure competitive pricing without compromising profitability.\n",
        "- **Price Monitoring Tools:** Develop or utilize existing tools that provide real-time price suggestions based on market conditions and occupancy rates.\n",
        "\n",
        "**2. Improve Listing Visibility and Attractiveness**\n",
        "- **Popular Room Types and Amenities:** Focus on listing entire homes/apartments and private rooms, as they are most in demand. Highlight key amenities that attract guests, such as Wi-Fi, air conditioning, kitchen facilities, and free parking.\n",
        "- **Listing Enhancements:** Use high-quality photos, detailed descriptions, and guest reviews to improve listing attractiveness. Offer virtual tours or video walkthroughs for a better guest experience.\n",
        "- **SEO Optimization:** Optimize listings with relevant keywords that potential guests are likely to search for, improving visibility on the platform.\n",
        "\n",
        "**3. Strategic Investment Decisions**\n",
        "- **Neighborhood Analysis:** Provide detailed reports on the most lucrative neighborhoods, focusing on areas like Manhattan, Brooklyn, and Queens. Highlight metrics such as average booking rates, occupancy rates, and ROI.\n",
        "- **Property Type Recommendations:** Advise investors on the most profitable property types, considering factors like room type popularity, price volatility, and guest reviews.\n",
        "- **Emerging Markets:** Identify and recommend underrepresented areas like Staten Island and Bronx, which could offer high growth potential with lower initial competition.\n",
        "\n",
        "**4. Seasonal Demand Management**\n",
        "- **Booking Patterns:** Analyze historical booking data to identify seasonal trends and peak periods. Provide insights into high-demand times like holidays, festivals, and local events.\n",
        "- **Dynamic Availability:** Recommend hosts adjust their availability and pricing dynamically based on seasonal demand. Encourage minimum stay requirements during peak periods to maximize revenue.\n",
        "- **Off-Peak Promotions:** Suggest offering discounts or special packages during off-peak seasons to attract more bookings and maintain steady occupancy.\n",
        "\n",
        "**5. Customer and Host Behavior Insights**\n",
        "- **Customer Preferences:** Analyze data on guest preferences for room types, amenities, and locations. Use these insights to tailor listings and improve guest satisfaction.\n",
        "- **Host Performance:** Evaluate host performance based on reviews, response times, and occupancy rates. Provide feedback and training to help hosts improve their service.\n",
        "- **Feature Development:** Develop new features based on customer feedback, such as personalized recommendations, flexible booking options, and enhanced communication tools.\n",
        "\n",
        "**6. Marketing and Promotion**\n",
        "- **Target Demographics:** Identify key demographics and tailor marketing campaigns to reach these segments effectively. Use data to understand the preferences and behaviors of different guest groups.\n",
        "- **Trend Analysis:** Monitor market trends and adjust promotional strategies accordingly. Focus on promoting high-demand areas and unique listings that stand out.\n",
        "- **Influencer Collaborations:** Partner with influencers and travel bloggers to reach a broader audience and increase visibility. Highlight positive guest experiences and unique selling points of the listings.\n"
      ],
      "metadata": {
        "id": "pASKb0qOza21"
      }
    },
    {
      "cell_type": "markdown",
      "source": [
        "# **Conclusion**"
      ],
      "metadata": {
        "id": "gCX9965dhzqZ"
      }
    },
    {
      "cell_type": "markdown",
      "source": [
        "In conclusion, the comprehensive analysis of Airbnb booking data has provided valuable insights into market dynamics, customer behavior, and strategic opportunities for hosts and investors. By implementing the recommended strategies, hosts can optimize their pricing, enhance listing visibility, and effectively manage seasonal demand, ultimately improving occupancy rates and revenue. For investors, understanding the most lucrative neighborhoods and property types will facilitate informed decisions to maximize return on investment.\n",
        "\n",
        "This project underscores the importance of data-driven decision-making in the competitive landscape of short-term rental markets, emphasizing continuous adaptation to market trends and guest preferences. Moving forward, ongoing monitoring and adaptation of strategies will be essential to maintain competitiveness and achieve long-term success in the Airbnb ecosystem."
      ],
      "metadata": {
        "id": "Fjb1IsQkh3yE"
      }
    },
    {
      "cell_type": "markdown",
      "source": [
        "### ***Hurrah! You have successfully completed your EDA Capstone Project !!!***"
      ],
      "metadata": {
        "id": "gIfDvo9L0UH2"
      }
    }
  ]
}